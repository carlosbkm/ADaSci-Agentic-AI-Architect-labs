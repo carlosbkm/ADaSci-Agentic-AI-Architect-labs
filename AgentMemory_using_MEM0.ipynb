{
  "nbformat": 4,
  "nbformat_minor": 0,
  "metadata": {
    "colab": {
      "provenance": [],
      "include_colab_link": true
    },
    "kernelspec": {
      "name": "python3",
      "display_name": "Python 3"
    },
    "language_info": {
      "name": "python"
    }
  },
  "cells": [
    {
      "cell_type": "markdown",
      "metadata": {
        "id": "view-in-github",
        "colab_type": "text"
      },
      "source": [
        "<a href=\"https://colab.research.google.com/github/carlosbkm/ADaSci-Agentic-AI-Architect-labs/blob/main/AgentMemory_using_MEM0.ipynb\" target=\"_parent\"><img src=\"https://colab.research.google.com/assets/colab-badge.svg\" alt=\"Open In Colab\"/></a>"
      ]
    },
    {
      "cell_type": "markdown",
      "source": [
        "### Library Installation"
      ],
      "metadata": {
        "id": "HCighA3DgE54"
      }
    },
    {
      "cell_type": "code",
      "execution_count": null,
      "metadata": {
        "colab": {
          "base_uri": "https://localhost:8080/",
          "height": 1000
        },
        "id": "m4qBpRoQNevf",
        "outputId": "fcf4e689-ad70-42b2-8d13-0db437b789bb"
      },
      "outputs": [
        {
          "output_type": "stream",
          "name": "stdout",
          "text": [
            "Collecting pyautogen\n",
            "  Downloading pyautogen-0.9.0-py3-none-any.whl.metadata (34 kB)\n",
            "Collecting autogen-agentchat\n",
            "  Downloading autogen_agentchat-0.5.7-py3-none-any.whl.metadata (2.5 kB)\n",
            "Collecting mem0ai\n",
            "  Downloading mem0ai-0.1.102-py3-none-any.whl.metadata (7.4 kB)\n",
            "Requirement already satisfied: anyio<5.0.0,>=3.0.0 in /usr/local/lib/python3.11/dist-packages (from pyautogen) (4.9.0)\n",
            "Collecting asyncer==0.0.8 (from pyautogen)\n",
            "  Downloading asyncer-0.0.8-py3-none-any.whl.metadata (6.7 kB)\n",
            "Collecting diskcache (from pyautogen)\n",
            "  Downloading diskcache-5.6.3-py3-none-any.whl.metadata (20 kB)\n",
            "Collecting docker (from pyautogen)\n",
            "  Downloading docker-7.1.0-py3-none-any.whl.metadata (3.8 kB)\n",
            "Requirement already satisfied: httpx<1,>=0.28.1 in /usr/local/lib/python3.11/dist-packages (from pyautogen) (0.28.1)\n",
            "Requirement already satisfied: packaging in /usr/local/lib/python3.11/dist-packages (from pyautogen) (24.2)\n",
            "Requirement already satisfied: pydantic<3,>=2.6.1 in /usr/local/lib/python3.11/dist-packages (from pyautogen) (2.11.4)\n",
            "Collecting python-dotenv (from pyautogen)\n",
            "  Downloading python_dotenv-1.1.0-py3-none-any.whl.metadata (24 kB)\n",
            "Requirement already satisfied: termcolor in /usr/local/lib/python3.11/dist-packages (from pyautogen) (3.1.0)\n",
            "Requirement already satisfied: tiktoken in /usr/local/lib/python3.11/dist-packages (from pyautogen) (0.9.0)\n",
            "Collecting autogen-core==0.5.7 (from autogen-agentchat)\n",
            "  Downloading autogen_core-0.5.7-py3-none-any.whl.metadata (2.3 kB)\n",
            "Collecting jsonref~=1.1.0 (from autogen-core==0.5.7->autogen-agentchat)\n",
            "  Downloading jsonref-1.1.0-py3-none-any.whl.metadata (2.7 kB)\n",
            "Collecting opentelemetry-api>=1.27.0 (from autogen-core==0.5.7->autogen-agentchat)\n",
            "  Downloading opentelemetry_api-1.33.1-py3-none-any.whl.metadata (1.6 kB)\n",
            "Requirement already satisfied: pillow>=11.0.0 in /usr/local/lib/python3.11/dist-packages (from autogen-core==0.5.7->autogen-agentchat) (11.2.1)\n",
            "Requirement already satisfied: protobuf~=5.29.3 in /usr/local/lib/python3.11/dist-packages (from autogen-core==0.5.7->autogen-agentchat) (5.29.4)\n",
            "Requirement already satisfied: typing-extensions>=4.0.0 in /usr/local/lib/python3.11/dist-packages (from autogen-core==0.5.7->autogen-agentchat) (4.13.2)\n",
            "Requirement already satisfied: openai>=1.33.0 in /usr/local/lib/python3.11/dist-packages (from mem0ai) (1.81.0)\n",
            "Collecting posthog>=3.5.0 (from mem0ai)\n",
            "  Downloading posthog-4.2.0-py2.py3-none-any.whl.metadata (3.0 kB)\n",
            "Requirement already satisfied: pytz>=2024.1 in /usr/local/lib/python3.11/dist-packages (from mem0ai) (2025.2)\n",
            "Collecting qdrant-client>=1.9.1 (from mem0ai)\n",
            "  Downloading qdrant_client-1.14.2-py3-none-any.whl.metadata (10 kB)\n",
            "Requirement already satisfied: sqlalchemy>=2.0.31 in /usr/local/lib/python3.11/dist-packages (from mem0ai) (2.0.41)\n",
            "Requirement already satisfied: idna>=2.8 in /usr/local/lib/python3.11/dist-packages (from anyio<5.0.0,>=3.0.0->pyautogen) (3.10)\n",
            "Requirement already satisfied: sniffio>=1.1 in /usr/local/lib/python3.11/dist-packages (from anyio<5.0.0,>=3.0.0->pyautogen) (1.3.1)\n",
            "Requirement already satisfied: certifi in /usr/local/lib/python3.11/dist-packages (from httpx<1,>=0.28.1->pyautogen) (2025.4.26)\n",
            "Requirement already satisfied: httpcore==1.* in /usr/local/lib/python3.11/dist-packages (from httpx<1,>=0.28.1->pyautogen) (1.0.9)\n",
            "Requirement already satisfied: h11>=0.16 in /usr/local/lib/python3.11/dist-packages (from httpcore==1.*->httpx<1,>=0.28.1->pyautogen) (0.16.0)\n",
            "Requirement already satisfied: distro<2,>=1.7.0 in /usr/local/lib/python3.11/dist-packages (from openai>=1.33.0->mem0ai) (1.9.0)\n",
            "Requirement already satisfied: jiter<1,>=0.4.0 in /usr/local/lib/python3.11/dist-packages (from openai>=1.33.0->mem0ai) (0.10.0)\n",
            "Requirement already satisfied: tqdm>4 in /usr/local/lib/python3.11/dist-packages (from openai>=1.33.0->mem0ai) (4.67.1)\n",
            "Requirement already satisfied: requests<3.0,>=2.7 in /usr/local/lib/python3.11/dist-packages (from posthog>=3.5.0->mem0ai) (2.32.3)\n",
            "Requirement already satisfied: six>=1.5 in /usr/local/lib/python3.11/dist-packages (from posthog>=3.5.0->mem0ai) (1.17.0)\n",
            "Requirement already satisfied: python-dateutil>=2.2 in /usr/local/lib/python3.11/dist-packages (from posthog>=3.5.0->mem0ai) (2.9.0.post0)\n",
            "Collecting backoff>=1.10.0 (from posthog>=3.5.0->mem0ai)\n",
            "  Downloading backoff-2.2.1-py3-none-any.whl.metadata (14 kB)\n",
            "Requirement already satisfied: annotated-types>=0.6.0 in /usr/local/lib/python3.11/dist-packages (from pydantic<3,>=2.6.1->pyautogen) (0.7.0)\n",
            "Requirement already satisfied: pydantic-core==2.33.2 in /usr/local/lib/python3.11/dist-packages (from pydantic<3,>=2.6.1->pyautogen) (2.33.2)\n",
            "Requirement already satisfied: typing-inspection>=0.4.0 in /usr/local/lib/python3.11/dist-packages (from pydantic<3,>=2.6.1->pyautogen) (0.4.1)\n",
            "Requirement already satisfied: grpcio>=1.41.0 in /usr/local/lib/python3.11/dist-packages (from qdrant-client>=1.9.1->mem0ai) (1.71.0)\n",
            "Requirement already satisfied: numpy>=1.21 in /usr/local/lib/python3.11/dist-packages (from qdrant-client>=1.9.1->mem0ai) (2.0.2)\n",
            "Collecting portalocker<3.0.0,>=2.7.0 (from qdrant-client>=1.9.1->mem0ai)\n",
            "  Downloading portalocker-2.10.1-py3-none-any.whl.metadata (8.5 kB)\n",
            "Requirement already satisfied: urllib3<3,>=1.26.14 in /usr/local/lib/python3.11/dist-packages (from qdrant-client>=1.9.1->mem0ai) (2.4.0)\n",
            "Requirement already satisfied: greenlet>=1 in /usr/local/lib/python3.11/dist-packages (from sqlalchemy>=2.0.31->mem0ai) (3.2.2)\n",
            "Requirement already satisfied: regex>=2022.1.18 in /usr/local/lib/python3.11/dist-packages (from tiktoken->pyautogen) (2024.11.6)\n",
            "Requirement already satisfied: h2<5,>=3 in /usr/local/lib/python3.11/dist-packages (from httpx[http2]>=0.20.0->qdrant-client>=1.9.1->mem0ai) (4.2.0)\n",
            "Collecting deprecated>=1.2.6 (from opentelemetry-api>=1.27.0->autogen-core==0.5.7->autogen-agentchat)\n",
            "  Downloading Deprecated-1.2.18-py2.py3-none-any.whl.metadata (5.7 kB)\n",
            "Collecting importlib-metadata<8.7.0,>=6.0 (from opentelemetry-api>=1.27.0->autogen-core==0.5.7->autogen-agentchat)\n",
            "  Downloading importlib_metadata-8.6.1-py3-none-any.whl.metadata (4.7 kB)\n",
            "Requirement already satisfied: charset-normalizer<4,>=2 in /usr/local/lib/python3.11/dist-packages (from requests<3.0,>=2.7->posthog>=3.5.0->mem0ai) (3.4.2)\n",
            "Requirement already satisfied: wrapt<2,>=1.10 in /usr/local/lib/python3.11/dist-packages (from deprecated>=1.2.6->opentelemetry-api>=1.27.0->autogen-core==0.5.7->autogen-agentchat) (1.17.2)\n",
            "Requirement already satisfied: hyperframe<7,>=6.1 in /usr/local/lib/python3.11/dist-packages (from h2<5,>=3->httpx[http2]>=0.20.0->qdrant-client>=1.9.1->mem0ai) (6.1.0)\n",
            "Requirement already satisfied: hpack<5,>=4.1 in /usr/local/lib/python3.11/dist-packages (from h2<5,>=3->httpx[http2]>=0.20.0->qdrant-client>=1.9.1->mem0ai) (4.1.0)\n",
            "Requirement already satisfied: zipp>=3.20 in /usr/local/lib/python3.11/dist-packages (from importlib-metadata<8.7.0,>=6.0->opentelemetry-api>=1.27.0->autogen-core==0.5.7->autogen-agentchat) (3.21.0)\n",
            "Downloading pyautogen-0.9.0-py3-none-any.whl (781 kB)\n",
            "\u001b[2K   \u001b[90m━━━━━━━━━━━━━━━━━━━━━━━━━━━━━━━━━━━━━━━━\u001b[0m \u001b[32m781.7/781.7 kB\u001b[0m \u001b[31m14.5 MB/s\u001b[0m eta \u001b[36m0:00:00\u001b[0m\n",
            "\u001b[?25hDownloading asyncer-0.0.8-py3-none-any.whl (9.2 kB)\n",
            "Downloading autogen_agentchat-0.5.7-py3-none-any.whl (106 kB)\n",
            "\u001b[2K   \u001b[90m━━━━━━━━━━━━━━━━━━━━━━━━━━━━━━━━━━━━━━━━\u001b[0m \u001b[32m106.1/106.1 kB\u001b[0m \u001b[31m4.0 MB/s\u001b[0m eta \u001b[36m0:00:00\u001b[0m\n",
            "\u001b[?25hDownloading autogen_core-0.5.7-py3-none-any.whl (96 kB)\n",
            "\u001b[2K   \u001b[90m━━━━━━━━━━━━━━━━━━━━━━━━━━━━━━━━━━━━━━━━\u001b[0m \u001b[32m96.6/96.6 kB\u001b[0m \u001b[31m3.1 MB/s\u001b[0m eta \u001b[36m0:00:00\u001b[0m\n",
            "\u001b[?25hDownloading mem0ai-0.1.102-py3-none-any.whl (156 kB)\n",
            "\u001b[2K   \u001b[90m━━━━━━━━━━━━━━━━━━━━━━━━━━━━━━━━━━━━━━━━\u001b[0m \u001b[32m156.0/156.0 kB\u001b[0m \u001b[31m5.8 MB/s\u001b[0m eta \u001b[36m0:00:00\u001b[0m\n",
            "\u001b[?25hDownloading posthog-4.2.0-py2.py3-none-any.whl (96 kB)\n",
            "\u001b[2K   \u001b[90m━━━━━━━━━━━━━━━━━━━━━━━━━━━━━━━━━━━━━━━━\u001b[0m \u001b[32m96.7/96.7 kB\u001b[0m \u001b[31m3.7 MB/s\u001b[0m eta \u001b[36m0:00:00\u001b[0m\n",
            "\u001b[?25hDownloading qdrant_client-1.14.2-py3-none-any.whl (327 kB)\n",
            "\u001b[2K   \u001b[90m━━━━━━━━━━━━━━━━━━━━━━━━━━━━━━━━━━━━━━━━\u001b[0m \u001b[32m327.7/327.7 kB\u001b[0m \u001b[31m18.3 MB/s\u001b[0m eta \u001b[36m0:00:00\u001b[0m\n",
            "\u001b[?25hDownloading diskcache-5.6.3-py3-none-any.whl (45 kB)\n",
            "\u001b[2K   \u001b[90m━━━━━━━━━━━━━━━━━━━━━━━━━━━━━━━━━━━━━━━━\u001b[0m \u001b[32m45.5/45.5 kB\u001b[0m \u001b[31m2.2 MB/s\u001b[0m eta \u001b[36m0:00:00\u001b[0m\n",
            "\u001b[?25hDownloading docker-7.1.0-py3-none-any.whl (147 kB)\n",
            "\u001b[2K   \u001b[90m━━━━━━━━━━━━━━━━━━━━━━━━━━━━━━━━━━━━━━━━\u001b[0m \u001b[32m147.8/147.8 kB\u001b[0m \u001b[31m8.3 MB/s\u001b[0m eta \u001b[36m0:00:00\u001b[0m\n",
            "\u001b[?25hDownloading python_dotenv-1.1.0-py3-none-any.whl (20 kB)\n",
            "Downloading backoff-2.2.1-py3-none-any.whl (15 kB)\n",
            "Downloading jsonref-1.1.0-py3-none-any.whl (9.4 kB)\n",
            "Downloading opentelemetry_api-1.33.1-py3-none-any.whl (65 kB)\n",
            "\u001b[2K   \u001b[90m━━━━━━━━━━━━━━━━━━━━━━━━━━━━━━━━━━━━━━━━\u001b[0m \u001b[32m65.8/65.8 kB\u001b[0m \u001b[31m3.4 MB/s\u001b[0m eta \u001b[36m0:00:00\u001b[0m\n",
            "\u001b[?25hDownloading portalocker-2.10.1-py3-none-any.whl (18 kB)\n",
            "Downloading Deprecated-1.2.18-py2.py3-none-any.whl (10.0 kB)\n",
            "Downloading importlib_metadata-8.6.1-py3-none-any.whl (26 kB)\n",
            "Installing collected packages: python-dotenv, portalocker, jsonref, importlib-metadata, diskcache, deprecated, backoff, posthog, opentelemetry-api, docker, asyncer, pyautogen, autogen-core, qdrant-client, autogen-agentchat, mem0ai\n",
            "  Attempting uninstall: importlib-metadata\n",
            "    Found existing installation: importlib_metadata 8.7.0\n",
            "    Uninstalling importlib_metadata-8.7.0:\n",
            "      Successfully uninstalled importlib_metadata-8.7.0\n",
            "Successfully installed asyncer-0.0.8 autogen-agentchat-0.5.7 autogen-core-0.5.7 backoff-2.2.1 deprecated-1.2.18 diskcache-5.6.3 docker-7.1.0 importlib-metadata-8.6.1 jsonref-1.1.0 mem0ai-0.1.102 opentelemetry-api-1.33.1 portalocker-2.10.1 posthog-4.2.0 pyautogen-0.9.0 python-dotenv-1.1.0 qdrant-client-1.14.2\n"
          ]
        },
        {
          "output_type": "display_data",
          "data": {
            "application/vnd.colab-display-data+json": {
              "pip_warning": {
                "packages": [
                  "importlib_metadata"
                ]
              },
              "id": "96ead83ac56d414095c297b005244f7c"
            }
          },
          "metadata": {}
        }
      ],
      "source": [
        "!pip install pyautogen autogen-agentchat mem0ai"
      ]
    },
    {
      "cell_type": "markdown",
      "source": [
        "### API Initialisation"
      ],
      "metadata": {
        "id": "3Bt5gCkbgHCm"
      }
    },
    {
      "cell_type": "code",
      "source": [
        "from google.colab import userdata\n",
        "import os\n",
        "\n",
        "os.environ['OPENAI_API_KEY'] = userdata.get('OPENAI_API_KEY')\n",
        "os.environ['MEM0_API_KEY'] = userdata.get('MEM0_API_KEY')"
      ],
      "metadata": {
        "id": "lunjgnqRNgHC"
      },
      "execution_count": null,
      "outputs": []
    },
    {
      "cell_type": "markdown",
      "source": [
        "### Agent Configuration with MemO"
      ],
      "metadata": {
        "id": "cfRHcXPagJce"
      }
    },
    {
      "cell_type": "code",
      "source": [
        "from autogen import ConversableAgent\n",
        "from mem0 import MemoryClient"
      ],
      "metadata": {
        "id": "BH_lQNFaOB0g"
      },
      "execution_count": null,
      "outputs": []
    },
    {
      "cell_type": "code",
      "source": [
        "agent = ConversableAgent(\n",
        "    \"chatbot\",\n",
        "    llm_config={\"config_list\": [{\"model\": \"gpt-4o\", \"api_key\": os.environ.get(\"OPENAI_API_KEY\")}]},\n",
        "    code_execution_config=False,\n",
        "    function_map=None,\n",
        "    human_input_mode=\"NEVER\",\n",
        ")\n",
        "\n",
        "memory = MemoryClient()"
      ],
      "metadata": {
        "id": "Zbv4-oFSOFdh",
        "colab": {
          "base_uri": "https://localhost:8080/"
        },
        "outputId": "61746a3c-708f-49d5-95af-e9b30ed25613"
      },
      "execution_count": null,
      "outputs": [
        {
          "output_type": "stream",
          "name": "stderr",
          "text": [
            "/usr/local/lib/python3.11/dist-packages/autogen/oai/client.py:798: PydanticDeprecatedSince20: The `copy` method is deprecated; use `model_copy` instead. See the docstring of `BaseModel.copy` for details about how to handle `include` and `exclude`. Deprecated in Pydantic V2.0 to be removed in V3.0. See Pydantic V2 Migration Guide at https://errors.pydantic.dev/2.11/migration/\n",
            "  config_list = [config.copy() for config in config_list]  # make a copy before modifying\n"
          ]
        }
      ]
    },
    {
      "cell_type": "markdown",
      "source": [
        "### Providing context for memory saving"
      ],
      "metadata": {
        "id": "gGWYF5hsgPcp"
      }
    },
    {
      "cell_type": "code",
      "source": [
        "conversation = [\n",
        "  {\n",
        "    \"role\": \"assistant\",\n",
        "    \"content\": \"Hello, I’m MedCare's virtual assistant.\\n\\nThank you for trusting MedCare Health System. How can I assist you today?\"\n",
        "  },\n",
        "  {\n",
        "    \"role\": \"user\",\n",
        "    \"content\": \"I've been having recurring chest pain and would like to get admitted for observation.\"\n",
        "  },\n",
        "  {\n",
        "    \"role\": \"assistant\",\n",
        "    \"content\": \"I’m really sorry to hear that you’re experiencing this. Your health is our priority, and I’m here to help you every step of the way.\\n\\nTo get started, may I have your full name and date of birth, so I can access your patient profile?\"\n",
        "  },\n",
        "  {\n",
        "    \"role\": \"user\",\n",
        "    \"content\": \"Name: John Doe, DOB: 03/14/1985\"\n",
        "  },\n",
        "  {\n",
        "    \"role\": \"assistant\",\n",
        "    \"content\": \"Thank you, John. I’ve located your record in our system.\\n\\nBefore proceeding, may I also have the email address or phone number associated with your MedCare account for verification?\"\n",
        "  },\n",
        "  {\n",
        "    \"role\": \"user\",\n",
        "    \"content\": \"john.doe@email.com\"\n",
        "  },\n",
        "  {\n",
        "    \"role\": \"assistant\",\n",
        "    \"content\": \"Perfect, thank you for confirming your details.\\n\\nJohn, we take symptoms like chest pain very seriously. I can help you schedule a direct admission to our observation unit.\\n\\nMay I ask when you first began experiencing these symptoms and whether you have any history of heart-related conditions?\"\n",
        "  },\n",
        "  {\n",
        "    \"role\": \"user\",\n",
        "    \"content\": \"It started about three days ago. No previous heart conditions that I know of.\"\n",
        "  },\n",
        "  {\n",
        "    \"role\": \"assistant\",\n",
        "    \"content\": \"Thanks for the information. I’ll include this in your intake form for the clinical team.\\n\\nSince this is a recurring issue and not an emergency at the moment, I recommend we schedule a priority admission tomorrow for observation and testing.\\n\\nWould you like me to go ahead and confirm the admission for tomorrow?\"\n",
        "  },\n",
        "  {\n",
        "    \"role\": \"user\",\n",
        "    \"content\": \"Yes, please.\"\n",
        "  },\n",
        "  {\n",
        "    \"role\": \"assistant\",\n",
        "    \"content\": \"Thank you. I’m confirming an admission for tomorrow.\\n\\nOur patient coordinator will contact you within the next 2 hours with further instructions and to assist with pre-admission paperwork.\\n\\nIs there anything else I can help you with right now, John?\"\n",
        "  },\n",
        "  {\n",
        "    \"role\": \"user\",\n",
        "    \"content\": \"No, that's all. Thanks a lot!\"\n",
        "  },\n",
        "  {\n",
        "    \"role\": \"assistant\",\n",
        "    \"content\": \"You’re very welcome. Wishing you a quick recovery and we're here for you whenever you need us.\\n\\nTake care, John.\"\n",
        "  }\n",
        "]\n",
        "\n",
        "memory.add(messages=conversation, user_id=\"patient_admission_bot\")"
      ],
      "metadata": {
        "colab": {
          "base_uri": "https://localhost:8080/"
        },
        "id": "2Sil-KCLOdl6",
        "outputId": "07f14cb0-da69-41e6-9f35-3854041146ce"
      },
      "execution_count": null,
      "outputs": [
        {
          "output_type": "stream",
          "name": "stderr",
          "text": [
            "/usr/local/lib/python3.11/dist-packages/mem0/client/main.py:34: DeprecationWarning: output_format='v1.0' is deprecated therefore setting it to 'v1.1' by default.Check out the docs for more information: https://docs.mem0.ai/platform/quickstart#4-1-create-memories\n",
            "  return func(*args, **kwargs)\n"
          ]
        },
        {
          "output_type": "execute_result",
          "data": {
            "text/plain": [
              "{'results': [{'memory': 'User name is John Doe',\n",
              "   'event': 'ADD',\n",
              "   'id': '018e48b7-2dc5-42a5-afa5-69d9bc917fe9'},\n",
              "  {'memory': 'User date of birth is 03/14/1985',\n",
              "   'event': 'ADD',\n",
              "   'id': '2cc8611c-e6ca-464d-9ea9-b9645e5387b9'},\n",
              "  {'memory': 'User email is john.doe@email.com',\n",
              "   'event': 'ADD',\n",
              "   'id': '983adab7-e0bf-4f4a-b972-70fd1e07b2c7'},\n",
              "  {'memory': 'User has been experiencing recurring chest pain for about three days',\n",
              "   'event': 'ADD',\n",
              "   'id': 'f749c57b-7531-407c-88f7-812f5866777d'},\n",
              "  {'memory': 'User has no known previous heart conditions',\n",
              "   'event': 'ADD',\n",
              "   'id': '99a894a8-4357-4884-b7d7-7cdd4814e9a9'},\n",
              "  {'memory': 'User wants to be admitted for observation due to chest pain',\n",
              "   'event': 'ADD',\n",
              "   'id': '0942cec2-597d-4082-9957-7a18d1ed071c'},\n",
              "  {'memory': 'User agreed to a priority admission scheduled for tomorrow',\n",
              "   'event': 'ADD',\n",
              "   'id': 'b374d4d3-e360-4e75-815f-ee33522335a8'}]}"
            ]
          },
          "metadata": {},
          "execution_count": 5
        }
      ]
    },
    {
      "cell_type": "markdown",
      "source": [
        "### Checking the agent"
      ],
      "metadata": {
        "id": "NjtLgpN9gTRK"
      }
    },
    {
      "cell_type": "code",
      "source": [
        "data = \"When is my admission for observation scheduled?\"\n",
        "\n",
        "relevant_memories = memory.search(data, user_id=\"patient_admission_bot\")\n",
        "flatten_relevant_memories = \"\\n\".join([m[\"memory\"] for m in relevant_memories])\n",
        "\n",
        "prompt = f\"\"\"Answer the user question considering the memories. Keep answers clear and concise.\n",
        "Memories:\n",
        "{flatten_relevant_memories}\n",
        "\\n\\n\n",
        "Question: {data}\n",
        "\"\"\"\n",
        "\n",
        "reply = agent.generate_reply(messages=[{\"content\": prompt, \"role\": \"user\"}])\n",
        "print(reply)"
      ],
      "metadata": {
        "colab": {
          "base_uri": "https://localhost:8080/"
        },
        "id": "sFtkPfOaOq5q",
        "outputId": "326f5204-50e2-42b7-c910-c856898ac1a9"
      },
      "execution_count": null,
      "outputs": [
        {
          "output_type": "stream",
          "name": "stdout",
          "text": [
            "Your admission for observation is scheduled for tomorrow.\n"
          ]
        }
      ]
    },
    {
      "cell_type": "markdown",
      "source": [
        "### Multi-agent Conversation with memory retrieval"
      ],
      "metadata": {
        "id": "K241DeL8gU77"
      }
    },
    {
      "cell_type": "code",
      "source": [
        "manager = ConversableAgent(\n",
        "    \"manager\",\n",
        "    system_message=\"You are a medical support who helps in resolving patient issues.\",\n",
        "    llm_config={\"config_list\": [{\"model\": \"gpt-4o\", \"api_key\": os.environ.get(\"OPENAI_API_KEY\")}]},\n",
        "    human_input_mode=\"NEVER\",\n",
        ")\n",
        "\n",
        "patient_bot = ConversableAgent(\n",
        "    \"patient_bot\",\n",
        "    system_message=\"You are a medical support bot who gathers information on patient problems. Keep answers clear and concise.\",\n",
        "    llm_config={\"config_list\": [{\"model\": \"gpt-4o\", \"api_key\": os.environ.get(\"OPENAI_API_KEY\")}]},\n",
        "    human_input_mode=\"NEVER\",\n",
        ")"
      ],
      "metadata": {
        "id": "x_xwa3KkOw2S",
        "colab": {
          "base_uri": "https://localhost:8080/"
        },
        "outputId": "464008db-7b1c-4b64-cd3a-716dc1e392c7"
      },
      "execution_count": null,
      "outputs": [
        {
          "output_type": "stream",
          "name": "stderr",
          "text": [
            "/usr/local/lib/python3.11/dist-packages/autogen/oai/client.py:798: PydanticDeprecatedSince20: The `copy` method is deprecated; use `model_copy` instead. See the docstring of `BaseModel.copy` for details about how to handle `include` and `exclude`. Deprecated in Pydantic V2.0 to be removed in V3.0. See Pydantic V2 Migration Guide at https://errors.pydantic.dev/2.11/migration/\n",
            "  config_list = [config.copy() for config in config_list]  # make a copy before modifying\n"
          ]
        }
      ]
    },
    {
      "cell_type": "code",
      "source": [
        "data = \"What is the date of birth of patient named John Doe?\"\n",
        "\n",
        "relevant_memories = memory.search(data, user_id=\"patient_admission_bot\")\n",
        "flatten_relevant_memories = \"\\n\".join([m[\"memory\"] for m in relevant_memories])\n",
        "\n",
        "prompt = f\"\"\"\n",
        "Context:\n",
        "{flatten_relevant_memories}\n",
        "\\n\\n\n",
        "Question: {data}\n",
        "\"\"\"\n",
        "\n",
        "result = manager.send(prompt, patient_bot, request_reply=True)"
      ],
      "metadata": {
        "id": "p-oXqzu_Qwup",
        "colab": {
          "base_uri": "https://localhost:8080/"
        },
        "outputId": "784fb5f5-8409-430c-c620-45e0e6d7aa19"
      },
      "execution_count": null,
      "outputs": [
        {
          "output_type": "stream",
          "name": "stdout",
          "text": [
            "manager (to patient_bot):\n",
            "\n",
            "\n",
            "Context:\n",
            "User name is John Doe\n",
            "User email is john.doe@email.com\n",
            "User date of birth is 03/14/1985\n",
            "User agreed to a priority admission scheduled for tomorrow\n",
            "User has no known previous heart conditions\n",
            "User wants to be admitted for observation due to chest pain\n",
            "User has been experiencing recurring chest pain for about three days\n",
            "\n",
            "\n",
            "\n",
            "Question: What is the date of birth of patient named John Doe?\n",
            "\n",
            "\n",
            "--------------------------------------------------------------------------------\n",
            "patient_bot (to manager):\n",
            "\n",
            "The date of birth of the patient named John Doe is March 14, 1985.\n",
            "\n",
            "--------------------------------------------------------------------------------\n"
          ]
        }
      ]
    },
    {
      "cell_type": "code",
      "source": [],
      "metadata": {
        "id": "SMn3Jn32Xzyn"
      },
      "execution_count": null,
      "outputs": []
    }
  ]
}