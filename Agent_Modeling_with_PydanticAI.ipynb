{
 "cells": [
  {
   "cell_type": "markdown",
   "id": "dfc42cc7",
   "metadata": {},
   "source": [
    "# Structured Agent Modeling with Pydantic AI"
   ]
  },
  {
   "cell_type": "markdown",
   "id": "4a195240",
   "metadata": {},
   "source": [
    "### Library Installation"
   ]
  },
  {
   "cell_type": "code",
   "execution_count": null,
   "id": "855ab105",
   "metadata": {
    "vscode": {
     "languageId": "plaintext"
    }
   },
   "outputs": [],
   "source": [
    "!pip install pydantic-ai logfire google-generativeai nest_asyncio"
   ]
  },
  {
   "cell_type": "markdown",
   "id": "e9fde483",
   "metadata": {},
   "source": [
    "### Library Imports"
   ]
  },
  {
   "cell_type": "code",
   "execution_count": null,
   "id": "dec0ffa7",
   "metadata": {},
   "outputs": [],
   "source": [
    "from pydantic import BaseModel, Field\n",
    "from pydantic_ai import Agent, ModelRetry, RunContext, Tool\n",
    "from pydantic_ai.models.openai import OpenAIModel"
   ]
  },
  {
   "cell_type": "markdown",
   "id": "f7e652af",
   "metadata": {},
   "source": [
    "### Gemini Model Setup"
   ]
  },
  {
   "cell_type": "code",
   "execution_count": null,
   "id": "0d233003",
   "metadata": {},
   "outputs": [],
   "source": [
    "from google.colab import userdata\n",
    "import google.generativeai as genai\n",
    "import os\n",
    "\n",
    "os.environ[\"GEMINI_API_KEY\"] = userdata.get(\"GEMINI_API_KEY\")\n",
    "# genai.configure(api_key=GEMINI_API_KEY)\n",
    "\n",
    "# ---- Initialize Gemini model ----\n",
    "model = \"gemini-2.0-flash\""
   ]
  },
  {
   "cell_type": "markdown",
   "id": "41781301",
   "metadata": {},
   "source": [
    "### Response Setup"
   ]
  },
  {
   "cell_type": "code",
   "execution_count": null,
   "id": "43a1a95f",
   "metadata": {},
   "outputs": [],
   "source": [
    "class ResponseModel(BaseModel):\n",
    "    \"\"\"Automatic Structured response with metadata.\"\"\"\n",
    "    leader_name: str\n",
    "    continent_name: str\n",
    "    country_name: str\n",
    "    capital_name: str\n",
    "    leader_description: str = Field(description=\"leader description\")"
   ]
  },
  {
   "cell_type": "markdown",
   "id": "acc40417",
   "metadata": {},
   "source": [
    "### Agent Setup"
   ]
  },
  {
   "cell_type": "code",
   "execution_count": null,
   "id": "b6e73b36",
   "metadata": {},
   "outputs": [],
   "source": [
    "agent = Agent(\n",
    "    model=model,\n",
    "    output_type=ResponseModel,\n",
    "    system_prompt=(\n",
    "        \"You are an intelligent research agent. \"\n",
    "        \"Analyze user request carefully and provide structured responses.\"\n",
    "    ),\n",
    "    retries = 3\n",
    ")\n",
    "\n",
    "agent2 = Agent(\n",
    "    model=model,\n",
    "    system_prompt=(\n",
    "        \"You are an intelligent research agent. \"\n",
    "        \"Analyze input json list carefully and provide markdown table\"\n",
    "        \"Be concise and don't write anything else except the markdown table\"\n",
    "        \"use bold tags for headers\"\n",
    "    ),\n",
    ")"
   ]
  },
  {
   "cell_type": "markdown",
   "id": "26f0c0c9",
   "metadata": {},
   "source": [
    "### Task Completion and Final Output Generation"
   ]
  },
  {
   "cell_type": "code",
   "execution_count": null,
   "id": "e24c4eae",
   "metadata": {},
   "outputs": [],
   "source": [
    "import nest_asyncio\n",
    "nest_asyncio.apply()\n",
    "\n",
    "data_list = []\n",
    "\n",
    "response = agent.run_sync(\"tell me about Narendra Modi\")\n",
    "data_list.append(response.output.model_dump_json(indent=2))\n",
    "\n",
    "response = agent.run_sync(\"tell me about Donald Trump\")\n",
    "data_list.append(response.output.model_dump_json(indent=2))\n",
    "\n",
    "response = agent.run_sync(\"tell me about Xi Jinping\")\n",
    "data_list.append(response.output.model_dump_json(indent=2))\n",
    "\n",
    "response_table = agent2.run_sync(str(data_list))\n",
    "print(response_table.output)"
   ]
  }
 ],
 "metadata": {
  "language_info": {
   "name": "python"
  }
 },
 "nbformat": 4,
 "nbformat_minor": 5
}
