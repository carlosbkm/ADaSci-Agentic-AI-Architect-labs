{
  "nbformat": 4,
  "nbformat_minor": 0,
  "metadata": {
    "colab": {
      "provenance": [],
      "include_colab_link": true
    },
    "kernelspec": {
      "name": "python3",
      "display_name": "Python 3"
    },
    "language_info": {
      "name": "python"
    }
  },
  "cells": [
    {
      "cell_type": "markdown",
      "metadata": {
        "id": "view-in-github",
        "colab_type": "text"
      },
      "source": [
        "<a href=\"https://colab.research.google.com/github/carlosbkm/ADaSci-Agentic-AI-Architect-labs/blob/main/Deploying_Agents_OpenAI_Agents_SDK.ipynb\" target=\"_parent\"><img src=\"https://colab.research.google.com/assets/colab-badge.svg\" alt=\"Open In Colab\"/></a>"
      ]
    },
    {
      "cell_type": "markdown",
      "source": [
        "### Library Installation"
      ],
      "metadata": {
        "id": "3F8El_XVHxPG"
      }
    },
    {
      "cell_type": "code",
      "source": [
        "!pip install pydantic-ai openai-agents nest-asyncio"
      ],
      "metadata": {
        "id": "nPH9EaMU9gRo"
      },
      "execution_count": null,
      "outputs": []
    },
    {
      "cell_type": "markdown",
      "source": [
        "### Patching asyncio for allowing nested use of asyncio.run"
      ],
      "metadata": {
        "id": "rCNRXcGnH6O5"
      }
    },
    {
      "cell_type": "code",
      "source": [
        "import nest_asyncio\n",
        "nest_asyncio.apply()"
      ],
      "metadata": {
        "id": "U1uD4fu4_5H7"
      },
      "execution_count": 2,
      "outputs": []
    },
    {
      "cell_type": "markdown",
      "source": [
        "### Library Imports and OpenAI_API_KEY Initialization"
      ],
      "metadata": {
        "id": "LyhXD8BaIAHL"
      }
    },
    {
      "cell_type": "code",
      "source": [
        "from agents import Agent, InputGuardrail,GuardrailFunctionOutput, Runner\n",
        "from pydantic import BaseModel\n",
        "from google.colab import userdata\n",
        "import asyncio\n",
        "import os\n",
        "\n",
        "os.environ[\"OPENAI_API_KEY\"] = userdata.get(\"OPENAI_API_KEY\")"
      ],
      "metadata": {
        "id": "1Ay4O6y48ceE"
      },
      "execution_count": 3,
      "outputs": []
    },
    {
      "cell_type": "markdown",
      "source": [
        "### Setting up Agents for Guardrails and Handoffs"
      ],
      "metadata": {
        "id": "L4kY1ts5IGKL"
      }
    },
    {
      "cell_type": "code",
      "source": [
        "class ResearchOutput(BaseModel):\n",
        "    is_research: bool\n",
        "    reasoning: str\n",
        "\n",
        "guardrail_agent = Agent(\n",
        "    name=\"Guardrail check\",\n",
        "    instructions=\"Check if the user is asking about research.\",\n",
        "    output_type=ResearchOutput,\n",
        ")\n",
        "\n",
        "cs_research_agent = Agent(\n",
        "    name=\"CS Researcher\",\n",
        "    handoff_description=\"Specialist agent for Computer Science Research\",\n",
        "    instructions=\"You provide help with CS research. Explain your reasoning at each step and include examples\",\n",
        ")\n",
        "\n",
        "bio_research_agent = Agent(\n",
        "    name=\"Biology Researcher\",\n",
        "    handoff_description=\"Specialist agent for Biological Research\",\n",
        "    instructions=\"You assist with biological research. Explain important events and context clearly.\",\n",
        ")"
      ],
      "metadata": {
        "id": "lwkKQ8T68el_"
      },
      "execution_count": 4,
      "outputs": []
    },
    {
      "cell_type": "markdown",
      "source": [
        "### Defining Guardrail Trigger"
      ],
      "metadata": {
        "id": "UETH3fkeIQVQ"
      }
    },
    {
      "cell_type": "code",
      "source": [
        "async def research_guardrail(ctx, agent, input_data):\n",
        "    result = await Runner.run(guardrail_agent, input_data, context=ctx.context)\n",
        "    final_output = result.final_output_as(ResearchOutput)\n",
        "    return GuardrailFunctionOutput(\n",
        "        output_info=final_output,\n",
        "        tripwire_triggered=not final_output.is_research,\n",
        "    )"
      ],
      "metadata": {
        "id": "ZzxHqGLw921E"
      },
      "execution_count": 5,
      "outputs": []
    },
    {
      "cell_type": "markdown",
      "source": [
        "### Handoff Setup"
      ],
      "metadata": {
        "id": "4Qr5h0QlIYKS"
      }
    },
    {
      "cell_type": "code",
      "source": [
        "triage_agent = Agent(\n",
        "    name=\"Triage Agent\",\n",
        "    instructions=\"You determine which agent to use based on the user's research question\",\n",
        "    handoffs=[cs_research_agent, bio_research_agent],\n",
        "    input_guardrails=[\n",
        "        InputGuardrail(guardrail_function=research_guardrail),\n",
        "    ],\n",
        ")"
      ],
      "metadata": {
        "id": "ciL-Up6C-FND"
      },
      "execution_count": 6,
      "outputs": []
    },
    {
      "cell_type": "markdown",
      "source": [
        "### Explicit Tracer Setup"
      ],
      "metadata": {
        "id": "DCakwRKvIbtZ"
      }
    },
    {
      "cell_type": "code",
      "source": [
        "from agents.tracing.setup import GLOBAL_TRACE_PROVIDER\n",
        "from agents import set_tracing_export_api_key\n",
        "\n",
        "set_tracing_export_api_key(os.environ[\"OPENAI_API_KEY\"])\n",
        "GLOBAL_TRACE_PROVIDER._multi_processor.force_flush()"
      ],
      "metadata": {
        "id": "-uDy9VTA-2mx"
      },
      "execution_count": 15,
      "outputs": []
    },
    {
      "cell_type": "markdown",
      "source": [
        "### Executing the Agent"
      ],
      "metadata": {
        "id": "9T9FjI4zIeoo"
      }
    },
    {
      "cell_type": "code",
      "source": [
        "# async def main():\n",
        "#   user_input = \"Explain the latest research on protein folding.\"\n",
        "#   user_input_non_research = \"Give me te recipe for a lemon cake\"\n",
        "\n",
        "#   try:\n",
        "#     result = await Runner.run(triage_agent, user_input_non_research)\n",
        "#     print(result.final_output)\n",
        "#   except Exception as e:\n",
        "#     print(f\"Error: {e}\")\n",
        "\n",
        "#   result = await Runner.run(triage_agent, user_input)\n",
        "#   print(result.final_output)\n",
        "#     result = await Runner.run(triage_agent, \"Explain the latest research on protein folding.\")\n",
        "#     print(result.final_output)"
      ],
      "metadata": {
        "id": "i1fH75Yd-Gih"
      },
      "execution_count": 16,
      "outputs": []
    },
    {
      "cell_type": "code",
      "source": [
        "from agents import InputGuardrailTripwireTriggered\n",
        "\n",
        "async def main():\n",
        "    # Example 1: A query that is NOT about research (will trigger the error)\n",
        "    non_research_query = \"Give me te recipe for a lemon cake\"\n",
        "\n",
        "    print(f\"--- Processing Input: '{non_research_query}' ---\")\n",
        "\n",
        "    # Use try...except to gracefully handle the guardrail trip\n",
        "    try:\n",
        "        # Attempt to run the agent\n",
        "        result = await Runner.run(triage_agent, non_research_query)\n",
        "\n",
        "        # This part runs ONLY if the guardrail DOESN'T trip\n",
        "        print(\"✅ Guardrail Passed! Research query detected.\")\n",
        "        print(result.final_output)\n",
        "\n",
        "    except InputGuardrailTripwireTriggered as e:\n",
        "        # This block runs when the guardrail TRIPS (catches the error)\n",
        "        print(f\"⚠️ **GUARDRAIL TRIPWIRE ACTIVATED**\")\n",
        "        print(f\"   Error caught: {e}\")\n",
        "\n",
        "        # ➡️ **The Solution:** Handle the request gracefully here.\n",
        "        print(\"\\n✨ **Graceful Action:** Redirecting or providing a fallback response...\")\n",
        "        print(\"   I'm sorry, I am currently specialized only for research-related queries.\")\n",
        "        # You would typically route the request to a different, more general agent here.\n",
        "\n",
        "    print(\"\\n------------------------------------------------------\\n\")\n",
        "\n",
        "    # Example 2: A query that IS about research (will pass the guardrail)\n",
        "    research_query = \"Explain the latest research on protein folding.\"\n",
        "\n",
        "    print(f\"--- Processing Input: '{research_query}' ---\")\n",
        "\n",
        "    try:\n",
        "          # Attempt to run the agent\n",
        "          result = await Runner.run(triage_agent, research_query)\n",
        "\n",
        "          # This part runs ONLY if the guardrail DOESN'T trip\n",
        "          print(\"✅ Guardrail Passed! Research query detected.\")\n",
        "          print(result.final_output)\n",
        "\n",
        "    except InputGuardrailTripwireTriggered as e:\n",
        "          # This block will be skipped\n",
        "          print(f\"⚠️ Should not happen for this input: {e}\")\n",
        "\n",
        "\n",
        "if __name__ == \"__main__\":\n",
        "  asyncio.run(main())"
      ],
      "metadata": {
        "id": "EhaiwaNx_lkf",
        "outputId": "0e35ec0d-7cc9-481b-b1c3-ac85ee442b77",
        "colab": {
          "base_uri": "https://localhost:8080/"
        }
      },
      "execution_count": 19,
      "outputs": [
        {
          "output_type": "stream",
          "name": "stdout",
          "text": [
            "--- Processing Input: 'Give me te recipe for a lemon cake' ---\n",
            "⚠️ **GUARDRAIL TRIPWIRE ACTIVATED**\n",
            "   Error caught: Guardrail InputGuardrail triggered tripwire\n",
            "\n",
            "✨ **Graceful Action:** Redirecting or providing a fallback response...\n",
            "   I'm sorry, I am currently specialized only for research-related queries.\n",
            "\n",
            "------------------------------------------------------\n",
            "\n",
            "--- Processing Input: 'Explain the latest research on protein folding.' ---\n",
            "✅ Guardrail Passed! Research query detected.\n",
            "Certainly! Here’s a summary of the latest research and developments in the field of protein folding (as of mid-2024):\n",
            "\n",
            "### 1. Deep Learning and Structure Prediction\n",
            "- **AlphaFold 2 & Its Impact**: Since DeepMind’s release of AlphaFold 2 (2021), the field has been transformed. AlphaFold predicts the 3D structures of proteins from their amino acid sequences with remarkable accuracy, enabling many new discoveries in biology, medicine, and biotechnology. In 2023–24, further expansions (like AlphaFold-Multimer) allow for predicting complexes and protein-protein interactions.\n",
            "- **RoseTTAFold**: The Baker lab’s RoseTTAFold and new hybrid models continue to improve accuracy, especially for multi-protein assemblies and challenging folds.\n",
            "- **Open Databases**: Over 200 million protein structures have now been released in public databases, vastly increasing the ease of research.\n",
            "\n",
            "### 2. Folding Dynamics & Kinetics\n",
            "- **Single-Molecule Techniques**: Studies using single-molecule fluorescence resonance energy transfer (smFRET) and cryo-EM have provided detailed real-time insights into folding pathways, intermediates, and misfolding events.\n",
            "- **Simulations**: Advances in molecular dynamics (MD), including AI-enhanced simulations, are now routinely resolving folding events at near-atomic resolution over biologically meaningful timescales.\n",
            "\n",
            "### 3. Misfolding, Diseases, and Therapeutics\n",
            "- **Amyloid & Prion Research**: New findings clarify how specific sequence motifs and environmental factors promote amyloid formation implicated in Alzheimer’s, Parkinson’s, and related disorders.\n",
            "- **Chaperones**: Researchers are discovering novel mechanisms by which cellular chaperones recognize and resolve misfolded proteins, offering potential drug targets.\n",
            "- **Protein Degradation Pathways**: Insights into how the ubiquitin-proteasome system and autophagy manage misfolded proteins are aiding the design of disease-modifying therapies.\n",
            "\n",
            "### 4. Protein Design & Engineering\n",
            "- **De novo Proteins**: AI-guided design of new protein folds and functions is making it possible to create entirely new proteins for industrial, medical, and environmental applications.\n",
            "- **Functional Design**: Recent studies have succeeded in engineering proteins with novel enzymatic activities or binding properties by precisely controlling folding patterns.\n",
            "\n",
            "### 5. Remaining Challenges\n",
            "- **Idiosyncratic/Disordered Proteins**: Predicting structures of intrinsically disordered regions, membrane proteins, and dynamic complexes remains tricky.\n",
            "- **Folding in Cellular Context**: Understanding how the crowded, complex cellular environment affects folding (in vivo versus in vitro) is an active area of research.\n",
            "\n",
            "---\n",
            "\n",
            "**In Summary:**  \n",
            "The last few years have seen unprecedented progress in protein folding research, largely driven by AI and high-throughput experiments. Structure prediction is now vastly accelerated, driving discoveries across biology and medicine, though key puzzles remain—especially regarding real-time dynamics, misfolding disorders, and non-canonical folding behaviors.\n",
            "\n",
            "Let me know if you’d like more detail on a specific aspect (e.g., AlphaFold updates, experimental techniques, disease relevance)!\n"
          ]
        }
      ]
    },
    {
      "cell_type": "code",
      "source": [],
      "metadata": {
        "id": "l_DlCr0z_v7Y"
      },
      "execution_count": null,
      "outputs": []
    }
  ]
}